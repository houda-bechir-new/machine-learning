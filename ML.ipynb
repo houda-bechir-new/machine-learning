{
  "nbformat": 4,
  "nbformat_minor": 0,
  "metadata": {
    "colab": {
      "provenance": []
    },
    "kernelspec": {
      "name": "python3",
      "display_name": "Python 3"
    },
    "language_info": {
      "name": "python"
    }
  },
  "cells": [
    {
      "cell_type": "markdown",
      "source": [
        "#Impotation des données"
      ],
      "metadata": {
        "id": "wGybnOCferuQ"
      }
    },
    {
      "cell_type": "code",
      "execution_count": null,
      "metadata": {
        "id": "kLEnB3OHY-Gz"
      },
      "outputs": [],
      "source": [
        "import numpy as np\n",
        "#optimisation de l'affichage: afficher que quelque lignes\n",
        "np.set_printoptions(threshold=10000, suppress=True)\n",
        "#lecture des fichiers csv, xls etc.\n",
        "import pandas as pd \n",
        "import warnings\n",
        "import matplotlib.pyplot as plt\n",
        "#eviter d'afficher des warnings\n",
        "warnings.filterwarnings('ignore')"
      ]
    },
    {
      "cell_type": "code",
      "source": [
        "#importation du dataset\n",
        "churn=pd.read_csv('./Churn_Modelling.csv',sep=',',header=0)\n",
        "#afficher les 3 premières lignes\n",
        "churn.head(3)"
      ],
      "metadata": {
        "colab": {
          "base_uri": "https://localhost:8080/",
          "height": 207
        },
        "id": "Rx7OZjU_ZOKD",
        "outputId": "d960e230-8fbc-470d-d76e-ee3eb5ed7642"
      },
      "execution_count": null,
      "outputs": [
        {
          "output_type": "execute_result",
          "data": {
            "text/plain": [
              "   CustomerId  CreditScore  Gender  Age  Tenure    Balance  NumOfProducts  \\\n",
              "0    15634602          619       1   42       2       0.00              1   \n",
              "1    15647311          608       1   41       1   83807.86              1   \n",
              "2    15619304          502       1   42       8  159660.80              3   \n",
              "\n",
              "   HasCrCard  IsActiveMember  EstimatedSalary  Exited  \n",
              "0          1               1        101348.88       1  \n",
              "1          0               1        112542.58       0  \n",
              "2          1               0        113931.57       1  "
            ],
            "text/html": [
              "\n",
              "  <div id=\"df-b9ce9575-233e-4ba6-8e79-8f324d56727b\">\n",
              "    <div class=\"colab-df-container\">\n",
              "      <div>\n",
              "<style scoped>\n",
              "    .dataframe tbody tr th:only-of-type {\n",
              "        vertical-align: middle;\n",
              "    }\n",
              "\n",
              "    .dataframe tbody tr th {\n",
              "        vertical-align: top;\n",
              "    }\n",
              "\n",
              "    .dataframe thead th {\n",
              "        text-align: right;\n",
              "    }\n",
              "</style>\n",
              "<table border=\"1\" class=\"dataframe\">\n",
              "  <thead>\n",
              "    <tr style=\"text-align: right;\">\n",
              "      <th></th>\n",
              "      <th>CustomerId</th>\n",
              "      <th>CreditScore</th>\n",
              "      <th>Gender</th>\n",
              "      <th>Age</th>\n",
              "      <th>Tenure</th>\n",
              "      <th>Balance</th>\n",
              "      <th>NumOfProducts</th>\n",
              "      <th>HasCrCard</th>\n",
              "      <th>IsActiveMember</th>\n",
              "      <th>EstimatedSalary</th>\n",
              "      <th>Exited</th>\n",
              "    </tr>\n",
              "  </thead>\n",
              "  <tbody>\n",
              "    <tr>\n",
              "      <th>0</th>\n",
              "      <td>15634602</td>\n",
              "      <td>619</td>\n",
              "      <td>1</td>\n",
              "      <td>42</td>\n",
              "      <td>2</td>\n",
              "      <td>0.00</td>\n",
              "      <td>1</td>\n",
              "      <td>1</td>\n",
              "      <td>1</td>\n",
              "      <td>101348.88</td>\n",
              "      <td>1</td>\n",
              "    </tr>\n",
              "    <tr>\n",
              "      <th>1</th>\n",
              "      <td>15647311</td>\n",
              "      <td>608</td>\n",
              "      <td>1</td>\n",
              "      <td>41</td>\n",
              "      <td>1</td>\n",
              "      <td>83807.86</td>\n",
              "      <td>1</td>\n",
              "      <td>0</td>\n",
              "      <td>1</td>\n",
              "      <td>112542.58</td>\n",
              "      <td>0</td>\n",
              "    </tr>\n",
              "    <tr>\n",
              "      <th>2</th>\n",
              "      <td>15619304</td>\n",
              "      <td>502</td>\n",
              "      <td>1</td>\n",
              "      <td>42</td>\n",
              "      <td>8</td>\n",
              "      <td>159660.80</td>\n",
              "      <td>3</td>\n",
              "      <td>1</td>\n",
              "      <td>0</td>\n",
              "      <td>113931.57</td>\n",
              "      <td>1</td>\n",
              "    </tr>\n",
              "  </tbody>\n",
              "</table>\n",
              "</div>\n",
              "      <button class=\"colab-df-convert\" onclick=\"convertToInteractive('df-b9ce9575-233e-4ba6-8e79-8f324d56727b')\"\n",
              "              title=\"Convert this dataframe to an interactive table.\"\n",
              "              style=\"display:none;\">\n",
              "        \n",
              "  <svg xmlns=\"http://www.w3.org/2000/svg\" height=\"24px\"viewBox=\"0 0 24 24\"\n",
              "       width=\"24px\">\n",
              "    <path d=\"M0 0h24v24H0V0z\" fill=\"none\"/>\n",
              "    <path d=\"M18.56 5.44l.94 2.06.94-2.06 2.06-.94-2.06-.94-.94-2.06-.94 2.06-2.06.94zm-11 1L8.5 8.5l.94-2.06 2.06-.94-2.06-.94L8.5 2.5l-.94 2.06-2.06.94zm10 10l.94 2.06.94-2.06 2.06-.94-2.06-.94-.94-2.06-.94 2.06-2.06.94z\"/><path d=\"M17.41 7.96l-1.37-1.37c-.4-.4-.92-.59-1.43-.59-.52 0-1.04.2-1.43.59L10.3 9.45l-7.72 7.72c-.78.78-.78 2.05 0 2.83L4 21.41c.39.39.9.59 1.41.59.51 0 1.02-.2 1.41-.59l7.78-7.78 2.81-2.81c.8-.78.8-2.07 0-2.86zM5.41 20L4 18.59l7.72-7.72 1.47 1.35L5.41 20z\"/>\n",
              "  </svg>\n",
              "      </button>\n",
              "      \n",
              "  <style>\n",
              "    .colab-df-container {\n",
              "      display:flex;\n",
              "      flex-wrap:wrap;\n",
              "      gap: 12px;\n",
              "    }\n",
              "\n",
              "    .colab-df-convert {\n",
              "      background-color: #E8F0FE;\n",
              "      border: none;\n",
              "      border-radius: 50%;\n",
              "      cursor: pointer;\n",
              "      display: none;\n",
              "      fill: #1967D2;\n",
              "      height: 32px;\n",
              "      padding: 0 0 0 0;\n",
              "      width: 32px;\n",
              "    }\n",
              "\n",
              "    .colab-df-convert:hover {\n",
              "      background-color: #E2EBFA;\n",
              "      box-shadow: 0px 1px 2px rgba(60, 64, 67, 0.3), 0px 1px 3px 1px rgba(60, 64, 67, 0.15);\n",
              "      fill: #174EA6;\n",
              "    }\n",
              "\n",
              "    [theme=dark] .colab-df-convert {\n",
              "      background-color: #3B4455;\n",
              "      fill: #D2E3FC;\n",
              "    }\n",
              "\n",
              "    [theme=dark] .colab-df-convert:hover {\n",
              "      background-color: #434B5C;\n",
              "      box-shadow: 0px 1px 3px 1px rgba(0, 0, 0, 0.15);\n",
              "      filter: drop-shadow(0px 1px 2px rgba(0, 0, 0, 0.3));\n",
              "      fill: #FFFFFF;\n",
              "    }\n",
              "  </style>\n",
              "\n",
              "      <script>\n",
              "        const buttonEl =\n",
              "          document.querySelector('#df-b9ce9575-233e-4ba6-8e79-8f324d56727b button.colab-df-convert');\n",
              "        buttonEl.style.display =\n",
              "          google.colab.kernel.accessAllowed ? 'block' : 'none';\n",
              "\n",
              "        async function convertToInteractive(key) {\n",
              "          const element = document.querySelector('#df-b9ce9575-233e-4ba6-8e79-8f324d56727b');\n",
              "          const dataTable =\n",
              "            await google.colab.kernel.invokeFunction('convertToInteractive',\n",
              "                                                     [key], {});\n",
              "          if (!dataTable) return;\n",
              "\n",
              "          const docLinkHtml = 'Like what you see? Visit the ' +\n",
              "            '<a target=\"_blank\" href=https://colab.research.google.com/notebooks/data_table.ipynb>data table notebook</a>'\n",
              "            + ' to learn more about interactive tables.';\n",
              "          element.innerHTML = '';\n",
              "          dataTable['output_type'] = 'display_data';\n",
              "          await google.colab.output.renderOutput(dataTable, element);\n",
              "          const docLink = document.createElement('div');\n",
              "          docLink.innerHTML = docLinkHtml;\n",
              "          element.appendChild(docLink);\n",
              "        }\n",
              "      </script>\n",
              "    </div>\n",
              "  </div>\n",
              "  "
            ]
          },
          "metadata": {},
          "execution_count": 5
        }
      ]
    },
    {
      "cell_type": "code",
      "source": [
        "#les 10 premiers lignes\n",
        "X= churn.iloc[:,1:10].values\n",
        "#seulement 10ème colonne\n",
        "Y= churn.iloc[:,10].values"
      ],
      "metadata": {
        "id": "oERyN_4HZCgn"
      },
      "execution_count": null,
      "outputs": []
    },
    {
      "cell_type": "code",
      "source": [
        "#afficher le nombre d'instance de la colonne Y\n",
        "plt.hist(Y)\n",
        "plt.show()"
      ],
      "metadata": {
        "colab": {
          "base_uri": "https://localhost:8080/",
          "height": 430
        },
        "id": "9FSnP6pbiMy6",
        "outputId": "07e0d8c7-3595-43ac-c6c9-570293a6aae3"
      },
      "execution_count": null,
      "outputs": [
        {
          "output_type": "display_data",
          "data": {
            "text/plain": [
              "<Figure size 640x480 with 1 Axes>"
            ],
            "image/png": "[encoded data removed]"
          },
          "metadata": {}
        }
      ]
    },
    {
      "cell_type": "markdown",
      "source": [
        "#Partie apprentissage"
      ],
      "metadata": {
        "id": "GTLXLbYWiybg"
      }
    },
    {
      "cell_type": "code",
      "source": [
        "#skearn: bibliothèque de Machine et deep learning\n",
        "from sklearn.model_selection import train_test_split\n",
        "#importation des algorithmes\n",
        "from sklearn.tree import DecisionTreeClassifier #arbre de décision\n",
        "from sklearn.neighbors import KNeighborsClassifier \n",
        "from sklearn.ensemble import RandomForestClassifier \n",
        "from sklearn.ensemble import AdaBoostClassifier \n",
        "from sklearn.ensemble import ExtraTreesClassifier\n",
        "from sklearn.neural_network import  MLPClassifier #reseaux de neurones\n",
        "#importation de marice de confusion\n",
        "from sklearn.metrics import confusion_matrix,accuracy_score,precision_score, recall_score\n"
      ],
      "metadata": {
        "id": "99E6YyO1Z7eD"
      },
      "execution_count": null,
      "outputs": []
    },
    {
      "cell_type": "code",
      "source": [
        "#la base de test contiendra 25% des individus de la base totale\n",
        "Xtrain,Xtest,Ytrain,Ytest=train_test_split(X,Y,test_size=0.25,random_state=1)"
      ],
      "metadata": {
        "id": "hH3eQ3PMZ8Ly"
      },
      "execution_count": null,
      "outputs": []
    },
    {
      "cell_type": "code",
      "source": [
        "Xtrain.shape"
      ],
      "metadata": {
        "colab": {
          "base_uri": "https://localhost:8080/"
        },
        "id": "2hMNx0zDZ8VT",
        "outputId": "45bc700d-071a-4899-a5dd-499e8a296d1b"
      },
      "execution_count": null,
      "outputs": [
        {
          "output_type": "execute_result",
          "data": {
            "text/plain": [
              "(7500, 9)"
            ]
          },
          "metadata": {},
          "execution_count": 9
        }
      ]
    },
    {
      "cell_type": "markdown",
      "source": [
        "Algorithme 1: decision tree classifier"
      ],
      "metadata": {
        "id": "7i3iXRNmoAZj"
      }
    },
    {
      "cell_type": "code",
      "source": [
        "print('decisin tree')\n",
        "DT=DecisionTreeClassifier(random_state=0,criterion='entropy')\n",
        " \n",
        "#Apprentissage\n",
        "DT.fit(Xtrain,Ytrain)\n",
        "\n",
        "#prediction des clients\n",
        "YDT=DT.predict(Xtest)\n",
        "\n",
        "print('accuracy={0:.3f},recall={1:.3f},precision={2:.3f}'.format(accuracy_score(Ytest,YDT),precision_score(Ytest,YDT),recall_score(Ytest,YDT)))\n",
        "print('matric de confusion')\n",
        "print(confusion_matrix(Ytest,YDT))"
      ],
      "metadata": {
        "colab": {
          "base_uri": "https://localhost:8080/"
        },
        "id": "ZrHrDkSWp57u",
        "outputId": "8f35f607-a6a7-4b62-ebf0-9e4e8c6957ef"
      },
      "execution_count": null,
      "outputs": [
        {
          "output_type": "stream",
          "name": "stdout",
          "text": [
            "decisin tree\n",
            "accuracy=0.794,recall=0.506,precision=0.527\n",
            "matric de confusion\n",
            "[[1712  268]\n",
            " [ 246  274]]\n"
          ]
        }
      ]
    },
    {
      "cell_type": "markdown",
      "source": [
        "Algorithme 2: MLP"
      ],
      "metadata": {
        "id": "MdLFe0UeqSon"
      }
    },
    {
      "cell_type": "code",
      "source": [
        "print('MLP')\n",
        "MLP=MLPClassifier(hidden_layer_sizes=(20, 10),alpha=0.001,max_iter=200)\n",
        "MLP.fit(Xtrain,Ytrain)\n",
        "YMLP=MLP.predict(Xtest)\n",
        "print('accuracy={0:.3f},recall={1:.3f},precision={2:.3f}'.format(accuracy_score(Ytest,YMLP),precision_score(Ytest,YMLP),recall_score(Ytest,YMLP)))\n",
        "print('matric de confusion')\n",
        "print(confusion_matrix(Ytest,YMLP))"
      ],
      "metadata": {
        "colab": {
          "base_uri": "https://localhost:8080/"
        },
        "id": "hm7NTODZqX-C",
        "outputId": "82b393bb-547a-4bad-dc36-bea9c9a7f88d"
      },
      "execution_count": null,
      "outputs": [
        {
          "output_type": "stream",
          "name": "stdout",
          "text": [
            "MLP\n",
            "accuracy=0.547,recall=0.256,precision=0.617\n",
            "matric de confusion\n",
            "[[1047  933]\n",
            " [ 199  321]]\n"
          ]
        }
      ]
    },
    {
      "cell_type": "markdown",
      "source": [
        "Algorithme 3: KNN"
      ],
      "metadata": {
        "id": "A-qEWK3ws_B8"
      }
    },
    {
      "cell_type": "code",
      "source": [
        "print('KNN')\n",
        "KNN= KNeighborsClassifier(n_neighbors=5)\n",
        "KNN.fit(Xtrain,Ytrain)\n",
        "YKNN=KNN.predict(Xtest)\n",
        "acc3=accuracy_score(Ytest,YKNN)\n",
        "rec3=recall_score(Ytest,YKNN)\n",
        "score3=(acc3+rec3)/2\n",
        "print('>Score = {0:.3f}'.format(score3))\n"
      ],
      "metadata": {
        "colab": {
          "base_uri": "https://localhost:8080/"
        },
        "id": "nybWstAus_OR",
        "outputId": "cef3cfef-a4c9-4d4c-94b4-c621588ee5a1"
      },
      "execution_count": null,
      "outputs": [
        {
          "output_type": "stream",
          "name": "stdout",
          "text": [
            "KNN\n",
            ">Score = 0.423\n"
          ]
        }
      ]
    },
    {
      "cell_type": "markdown",
      "source": [
        "Algorithme 4: Random Forest"
      ],
      "metadata": {
        "id": "Wx65Nhmis_cZ"
      }
    },
    {
      "cell_type": "code",
      "source": [
        "print('RF')\n",
        "RF= RandomForestClassifier(n_estimators=100, random_state=1)\n",
        "RF.fit(Xtrain,Ytrain)\n",
        "YRF=RF.predict(Xtest)\n",
        "acc4=accuracy_score(Ytest,YRF)\n",
        "rec4=recall_score(Ytest,YRF)\n",
        "score4=(acc4+rec4)/2\n",
        "print('>Score = {0:.3f}'.format(score4))\n",
        "\n"
      ],
      "metadata": {
        "colab": {
          "base_uri": "https://localhost:8080/"
        },
        "id": "ASn_iprvs_og",
        "outputId": "78d2d65f-12d1-4f72-9d5c-ff5382dac8f1"
      },
      "execution_count": null,
      "outputs": [
        {
          "output_type": "stream",
          "name": "stdout",
          "text": [
            "RF\n",
            ">Score = 0.637\n"
          ]
        }
      ]
    },
    {
      "cell_type": "markdown",
      "source": [
        "Algorithme 5: AdaC"
      ],
      "metadata": {
        "id": "CjeWAHDhtAEx"
      }
    },
    {
      "cell_type": "code",
      "source": [
        "\n",
        " print('AdaC')\n",
        " AdaC=AdaBoostClassifier(n_estimators=100, random_state=0)\n",
        " AdaC.fit(Xtrain,Ytrain)\n",
        " YAdaC=AdaC.predict(Xtest)\n",
        " acc5=accuracy_score(Ytest,YAdaC)\n",
        " rec5=recall_score(Ytest,YAdaC)\n",
        " score5=(acc5+rec5)/2\n",
        " print('>Score = {0:.3f}'.format(score5))\n"
      ],
      "metadata": {
        "colab": {
          "base_uri": "https://localhost:8080/"
        },
        "id": "4MQxK-xUtARL",
        "outputId": "aac0db54-f67b-4920-9698-ed3a35a83fe1"
      },
      "execution_count": null,
      "outputs": [
        {
          "output_type": "stream",
          "name": "stdout",
          "text": [
            "AdaC\n",
            ">Score = 0.654\n"
          ]
        }
      ]
    },
    {
      "cell_type": "markdown",
      "source": [
        "Algorithme 6: ExtC"
      ],
      "metadata": {
        "id": "la3UcCD2uQyl"
      }
    },
    {
      "cell_type": "code",
      "source": [
        " print('ExtC')\n",
        " ExtC=ExtraTreesClassifier(n_estimators=100, random_state=0)\n",
        " ExtC.fit(Xtrain,Ytrain)\n",
        " YExtC=ExtC.predict(Xtest)\n",
        " acc6=accuracy_score(Ytest,YExtC)\n",
        " rec6=recall_score(Ytest,YExtC)\n",
        " score6=(acc6+rec6)/2\n",
        " print('>Score = {0:.3f}'.format(score6))"
      ],
      "metadata": {
        "colab": {
          "base_uri": "https://localhost:8080/"
        },
        "id": "38syKmPAuRAX",
        "outputId": "203fbc44-2060-4c7a-bb21-cbb9447ba9f7"
      },
      "execution_count": null,
      "outputs": [
        {
          "output_type": "stream",
          "name": "stdout",
          "text": [
            "ExtC\n",
            ">Score = 0.634\n"
          ]
        }
      ]
    }
  ]
}